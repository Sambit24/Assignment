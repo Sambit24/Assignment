{
 "cells": [
  {
   "cell_type": "code",
   "execution_count": 11,
   "id": "2bc87b14",
   "metadata": {},
   "outputs": [
    {
     "name": "stdout",
     "output_type": "stream",
     "text": [
      "Enter a number10\n",
      "0 1 1 2 3 5 8 13 21 34 "
     ]
    }
   ],
   "source": [
    "num = int(input(\"Enter a number\"))\n",
    "n1,n2 = 0,1\n",
    "if num == 0:\n",
    "    print(n1)\n",
    "elif num == 1:\n",
    "    print(n2)\n",
    "else:\n",
    "    print(n1,n2, end = \" \")\n",
    "    for i in range(num-2):\n",
    "        fibo = n1 + n2\n",
    "        n1 = n2\n",
    "        n2 = fibo\n",
    "        print(fibo, end = \" \")"
   ]
  },
  {
   "cell_type": "code",
   "execution_count": 6,
   "id": "5d99f593",
   "metadata": {},
   "outputs": [
    {
     "name": "stdout",
     "output_type": "stream",
     "text": [
      "adoydE\n"
     ]
    }
   ],
   "source": [
    "a = \"Edyoda\"\n",
    "print(a[::-1])"
   ]
  },
  {
   "cell_type": "code",
   "execution_count": null,
   "id": "ac979785",
   "metadata": {},
   "outputs": [],
   "source": []
  }
 ],
 "metadata": {
  "kernelspec": {
   "display_name": "Python 3 (ipykernel)",
   "language": "python",
   "name": "python3"
  },
  "language_info": {
   "codemirror_mode": {
    "name": "ipython",
    "version": 3
   },
   "file_extension": ".py",
   "mimetype": "text/x-python",
   "name": "python",
   "nbconvert_exporter": "python",
   "pygments_lexer": "ipython3",
   "version": "3.9.5"
  }
 },
 "nbformat": 4,
 "nbformat_minor": 5
}
