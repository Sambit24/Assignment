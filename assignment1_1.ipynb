{
 "cells": [
  {
   "cell_type": "code",
   "execution_count": 1,
   "id": "2bc87b14",
   "metadata": {},
   "outputs": [
    {
     "name": "stdout",
     "output_type": "stream",
     "text": [
      "0\n",
      "1\n",
      "1\n",
      "2\n",
      "3\n",
      "5\n",
      "8\n",
      "13\n",
      "21\n",
      "34\n"
     ]
    }
   ],
   "source": [
    "n1,n2 = 0,1\n",
    "print(n1)\n",
    "while n2<50:\n",
    "    print(n2)\n",
    "    n1,n2 = n2, n1+n2"
   ]
  },
  {
   "cell_type": "code",
   "execution_count": 6,
   "id": "5d99f593",
   "metadata": {},
   "outputs": [
    {
     "name": "stdout",
     "output_type": "stream",
     "text": [
      "adoydE\n"
     ]
    }
   ],
   "source": [
    "a = \"Edyoda\"\n",
    "print(a[::-1])"
   ]
  },
  {
   "cell_type": "code",
   "execution_count": 7,
   "id": "ac979785",
   "metadata": {},
   "outputs": [
    {
     "name": "stdout",
     "output_type": "stream",
     "text": [
      "4\n",
      "5\n"
     ]
    }
   ],
   "source": [
    "numbers = (1, 2, 3, 4, 5, 6, 7, 8, 9)\n",
    "even_count = 0\n",
    "odd_count = 0\n",
    "for i in numbers:\n",
    "    if i%2 == 0:\n",
    "        even_count += 1\n",
    "        continue\n",
    "    else:\n",
    "        odd_count += 1\n",
    "print(even_count)\n",
    "print(odd_count)"
   ]
  }
 ],
 "metadata": {
  "kernelspec": {
   "display_name": "Python 3 (ipykernel)",
   "language": "python",
   "name": "python3"
  },
  "language_info": {
   "codemirror_mode": {
    "name": "ipython",
    "version": 3
   },
   "file_extension": ".py",
   "mimetype": "text/x-python",
   "name": "python",
   "nbconvert_exporter": "python",
   "pygments_lexer": "ipython3",
   "version": "3.9.5"
  }
 },
 "nbformat": 4,
 "nbformat_minor": 5
}
