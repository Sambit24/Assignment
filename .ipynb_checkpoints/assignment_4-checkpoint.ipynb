{
 "cells": [
  {
   "cell_type": "code",
   "execution_count": 5,
   "id": "680669ab",
   "metadata": {},
   "outputs": [
    {
     "name": "stdout",
     "output_type": "stream",
     "text": [
      "10\n",
      "35\n"
     ]
    }
   ],
   "source": [
    "# Write a Python program to create a lambda function that adds 25 to a given number passed in as an argument.\n",
    "addi = lambda a: a+25\n",
    "x=int(input())\n",
    "print(addi(x))"
   ]
  },
  {
   "cell_type": "code",
   "execution_count": 6,
   "id": "ce662b05",
   "metadata": {},
   "outputs": [
    {
     "name": "stdout",
     "output_type": "stream",
     "text": [
      "35\n"
     ]
    }
   ],
   "source": [
    "# Write a Python program to create a lambda function that adds 25 to a given number passed in as an argument.\n",
    "addi = lambda a: a+25\n",
    "print(addi(10))"
   ]
  },
  {
   "cell_type": "code",
   "execution_count": 1,
   "id": "48318b5b",
   "metadata": {},
   "outputs": [
    {
     "name": "stdout",
     "output_type": "stream",
     "text": [
      "[3, 6, 9, 12, 15, 18, 21]\n"
     ]
    }
   ],
   "source": [
    "# Write a Python program to triple all numbers of a given list of integers. Use Python map.\n",
    "numbers=[1, 2, 3, 4, 5, 6, 7]\n",
    "triplet = list(map(lambda a:a*3,numbers))\n",
    "print(triplet)"
   ]
  },
  {
   "cell_type": "code",
   "execution_count": 4,
   "id": "1eb9f079",
   "metadata": {},
   "outputs": [
    {
     "name": "stdout",
     "output_type": "stream",
     "text": [
      "[16, 25, 4, 81]\n"
     ]
    }
   ],
   "source": [
    "# Write a Python program to square the elements of a list using map() function.\n",
    "numbers=[4, 5, 2, 9]\n",
    "squares = list(map(lambda a:a**2,numbers))\n",
    "print(squares)"
   ]
  }
 ],
 "metadata": {
  "kernelspec": {
   "display_name": "Python 3 (ipykernel)",
   "language": "python",
   "name": "python3"
  },
  "language_info": {
   "codemirror_mode": {
    "name": "ipython",
    "version": 3
   },
   "file_extension": ".py",
   "mimetype": "text/x-python",
   "name": "python",
   "nbconvert_exporter": "python",
   "pygments_lexer": "ipython3",
   "version": "3.9.5"
  }
 },
 "nbformat": 4,
 "nbformat_minor": 5
}
