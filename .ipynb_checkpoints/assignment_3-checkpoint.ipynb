{
 "cells": [
  {
   "cell_type": "code",
   "execution_count": 25,
   "id": "d253041e",
   "metadata": {},
   "outputs": [
    {
     "name": "stdout",
     "output_type": "stream",
     "text": [
      "20\n"
     ]
    }
   ],
   "source": [
    "def addi(*args):\n",
    "    total=0\n",
    "    for num in args:\n",
    "        total+=num\n",
    "    return total\n",
    "print(addi(8, 2, 3, 0, 7))"
   ]
  },
  {
   "cell_type": "code",
   "execution_count": 27,
   "id": "84d6372b",
   "metadata": {},
   "outputs": [
    {
     "data": {
      "text/plain": [
       "'dcba4321'"
      ]
     },
     "execution_count": 27,
     "metadata": {},
     "output_type": "execute_result"
    }
   ],
   "source": [
    "def reve():\n",
    "    a=\"1234abcd\"\n",
    "    return a[::-1]\n",
    "reve()"
   ]
  },
  {
   "cell_type": "code",
   "execution_count": 23,
   "id": "e325761c",
   "metadata": {},
   "outputs": [
    {
     "name": "stdout",
     "output_type": "stream",
     "text": [
      "No. of Upper case Characters: 3\n",
      "No. of Lower case Characters: 12\n"
     ]
    }
   ],
   "source": [
    "def upp_low_count(a):\n",
    "    upp_count=0\n",
    "    low_count=0\n",
    "    for i in range(len(a)):\n",
    "        if ord(a[i]) in range(ord('A'),ord('Z')+1):\n",
    "            upp_count+=1\n",
    "        elif ord(a[i]) in range(ord('a'),ord('z')+1):\n",
    "            low_count+=1\n",
    "    print(f'No. of Upper case Characters: {upp_count}\\nNo. of Lower case Characters: {low_count}')\n",
    "upp_low_count('The quick Brow Fox')"
   ]
  },
  {
   "cell_type": "code",
   "execution_count": null,
   "id": "57b67bc1",
   "metadata": {},
   "outputs": [],
   "source": []
  }
 ],
 "metadata": {
  "kernelspec": {
   "display_name": "Python 3 (ipykernel)",
   "language": "python",
   "name": "python3"
  },
  "language_info": {
   "codemirror_mode": {
    "name": "ipython",
    "version": 3
   },
   "file_extension": ".py",
   "mimetype": "text/x-python",
   "name": "python",
   "nbconvert_exporter": "python",
   "pygments_lexer": "ipython3",
   "version": "3.9.5"
  }
 },
 "nbformat": 4,
 "nbformat_minor": 5
}
