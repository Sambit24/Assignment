{
 "cells": [
  {
   "cell_type": "code",
   "execution_count": 3,
   "id": "2bc87b14",
   "metadata": {},
   "outputs": [
    {
     "name": "stdout",
     "output_type": "stream",
     "text": [
      "1 1 2 3 5 8 13 21 34 "
     ]
    }
   ],
   "source": [
    "n1,n2 = 0,1\n",
    "# print(n1,end=\" \")\n",
    "while n2<50:\n",
    "    print(n2,end=\" \")\n",
    "    n1,n2 = n2, n1+n2"
   ]
  },
  {
   "cell_type": "code",
   "execution_count": 6,
   "id": "5d99f593",
   "metadata": {},
   "outputs": [
    {
     "name": "stdout",
     "output_type": "stream",
     "text": [
      "adoydE\n"
     ]
    }
   ],
   "source": [
    "a = \"Edyoda\"\n",
    "print(a[::-1])"
   ]
  },
  {
   "cell_type": "code",
   "execution_count": 11,
   "id": "ac979785",
   "metadata": {},
   "outputs": [
    {
     "name": "stdout",
     "output_type": "stream",
     "text": [
      "Number of even numbers :4\n",
      "Number of odd numbers :5\n"
     ]
    }
   ],
   "source": [
    "numbers = (1, 2, 3, 4, 5, 6, 7, 8, 9)\n",
    "even_count = 0\n",
    "odd_count = 0\n",
    "for i in numbers:\n",
    "    if i%2 == 0:\n",
    "        even_count += 1\n",
    "        continue\n",
    "    else:\n",
    "        odd_count += 1\n",
    "print(f\"Number of even numbers :{even_count}\")\n",
    "print(f\"Number of odd numbers :{odd_count}\")"
   ]
  }
 ],
 "metadata": {
  "kernelspec": {
   "display_name": "Python 3 (ipykernel)",
   "language": "python",
   "name": "python3"
  },
  "language_info": {
   "codemirror_mode": {
    "name": "ipython",
    "version": 3
   },
   "file_extension": ".py",
   "mimetype": "text/x-python",
   "name": "python",
   "nbconvert_exporter": "python",
   "pygments_lexer": "ipython3",
   "version": "3.9.5"
  }
 },
 "nbformat": 4,
 "nbformat_minor": 5
}
